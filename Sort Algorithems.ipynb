{
 "cells": [
  {
   "cell_type": "markdown",
   "id": "c8a02bf8",
   "metadata": {},
   "source": [
    "# MergeSort"
   ]
  },
  {
   "cell_type": "markdown",
   "id": "1c7380a8",
   "metadata": {},
   "source": [
    "<div style=\"direction: rtl;\">\n",
    "     الگوریتم مرتب سازی ادغامی بر اساس روش تقسیم و غلبه کار می کند\n",
    "  <ol>\n",
    "    <li>در صورتی که تنها یک عنصر در آرایه باشد آرایه از قبل مرتب است و برگشت داده می شود</li>\n",
    "    <li>ابتداد اندیس وسط آرایه بدست می آید</li>    \n",
    "    <li> سپس آرایه به دو قسمت مساوی با توجه به اندیس میانی تقسیم می شود </li>\n",
    "    <li>هر بخش به صورت جداگانه و به صورت بازگشتی با فراخوانی تابع مرتب سازی ادغامی مرتب می شود</li>\n",
    "    <li>\n",
    "        <p style=\"text-align: right;\" >  \n",
    "            زیرآرایه های مرتب شده با یکدیگر ادغام م شوند تا یک آرایه کامل و مرتب شده ایجاد شود\n",
    "          </br>\n",
    "      فرایند ادغام دو زیرآرایه مرتب شده به این صورت انجام می شود که ابتدا عناصر دو زیرآرایه با هم مقایسه می شوند و کمترین عنصر را در ابتدای آرایه ادغامی قرار می دهیم. سپس به طور مرتب ادامه می دهیم و عناصر بعدی را با یکدیگر مقایسه کرده و کمترین عنصر را در آرایه ادغامی قرار می دهیم. این فرآیند تا زمانی ادامه پیدا می کند که تمام عناصر دو زیرآرایه در آرایه ادغامی قرار گیرند. در نهایت، آرایه ادغامی به صورت کامل مرتب و حاوی تمام عناصر از دو زیرآرایه است.\n",
    "        </p>\n",
    "        </li>\n",
    "  </ol>\n",
    "   <p style=\"text-align: right;\" >   زمان اجرای این الگوریتم O(nLog(n) می باشد</p>\n",
    "</div>"
   ]
  },
  {
   "cell_type": "code",
   "execution_count": 25,
   "id": "9c8601d2",
   "metadata": {},
   "outputs": [
    {
     "name": "stdout",
     "output_type": "stream",
     "text": [
      "Original array: [ 9.   1.   4.   5.   6.   0.5  8.  -1.  -0.5  6.   8. ]\n",
      "Sorted array in ascending order: [-1.  -0.5  0.5  1.   4.   5.   6.   6.   8.   8.   9. ]\n",
      "Original array: [ 9.   1.   4.   5.   6.   0.5  8.  -1.  -0.5  6.   8. ]\n",
      "Sorted array in ascending order: [-1.  -0.5  0.5  1.   4.   5.   6.   6.   8.   8.   9. ]\n",
      "Original array changed: [-1.  -0.5  0.5  1.   4.   5.   6.   6.   8.   8.   9. ]\n"
     ]
    }
   ],
   "source": [
    "import numpy as np\n",
    "\n",
    "# Example usage:\n",
    "numbers = np.array([9,1.0, 4.0, 5.0, 6.0, 0.5, 8.0, -1.0, -0.5, 6.0, 8.0])\n",
    "\n",
    "print(\"Original array:\", numbers)\n",
    "\n",
    "#sort inplace= false\n",
    "sorted_numbers =np.sort(numbers ,kind=\"mergesort\")\n",
    "\n",
    "print(\"Sorted array in ascending order:\", sorted_numbers)\n",
    "\n",
    "#sort inplace= true\n",
    "print(\"Original array:\", numbers)\n",
    "numbers.sort(kind=\"mergesort\")\n",
    "print(\"Sorted array in ascending order:\", numbers)\n",
    "print(\"Original array changed:\", numbers)\n"
   ]
  },
  {
   "cell_type": "code",
   "execution_count": 1,
   "id": "939cc479",
   "metadata": {},
   "outputs": [
    {
     "name": "stdout",
     "output_type": "stream",
     "text": [
      "Original array: [ 9.   1.   4.   5.   6.   0.5  8.  -1.  -0.5  6.   8. ]\n",
      "Sorted array in ascending order: [-1.  -0.5  0.5  1.   4.   5.   6.   6.   8.   8.   9. ]\n"
     ]
    }
   ],
   "source": [
    "import numpy as np\n",
    "\n",
    "\n",
    "def merge_sort (arr) :\n",
    "    if arr.shape[0]<=1:\n",
    "        #print (\"return  : \" ,arr)\n",
    "        return arr\n",
    "\n",
    "    # Find the middle index of the list\n",
    "    mid = arr.shape[0] // 2\n",
    "\n",
    "    # Divide the list into two halves recursively\n",
    "    left = arr[:mid]\n",
    "    #print(\"left_arr :\" , left)\n",
    "    right = arr[mid:]\n",
    "    #print(\"right_arr :\" , right)\n",
    "    \n",
    "    #print(\"call merge_sort on left_arr :\" ,left)\n",
    "    left_arr = merge_sort(left)\n",
    "    \n",
    "    #print(\"call merge_sort on right_arr :\" ,right)\n",
    "    right_arr = merge_sort(right)\n",
    "    \n",
    "    # Merge the two sorted halves\n",
    "    return merge(left_arr, right_arr)\n",
    "\n",
    "\n",
    "def merge(left, right):\n",
    "    #print(\"Call merge on \",left ,\"|\" , right)\n",
    "    if len(left) == 0:\n",
    "        return right\n",
    "    if len(right) == 0:\n",
    "        return left\n",
    "    \n",
    "    if left[0] < right[0]:\n",
    "        merged = np.concatenate(([left[0]], merge(left[1:], right)))\n",
    "    else:\n",
    "        merged = np.concatenate(([right[0]], merge(left, right[1:])))\n",
    "    #print (\"sorted & merged : \",merged )\n",
    "    return merged\n",
    "\n",
    "\n",
    "\n",
    "\n",
    "numbers = np.array([9,1.0, 4.0, 5.0, 6.0, 0.5, 8.0, -1.0, -0.5, 6.0, 8.0])\n",
    "print(\"Original array:\", numbers)\n",
    "sorted_numbers = merge_sort(numbers)\n",
    "print(\"Sorted array in ascending order:\", sorted_numbers)"
   ]
  },
  {
   "cell_type": "markdown",
   "id": "086daa2b",
   "metadata": {},
   "source": [
    "# QuickSort"
   ]
  },
  {
   "cell_type": "markdown",
   "id": "a6a305ff",
   "metadata": {},
   "source": [
    "\n",
    "\n",
    "<div style=\"direction: rtl;\">\n",
    "     الگوریتم مرتب سازی سریع بر اساس روش تقسیم و غلبه کار می کند\n",
    "  <ol>\n",
    "    <li>ابتدا یک عنصر به عنوان Pivot انتخاب می شود این عنصر می تواند وسط ، ایتدا  یا انتهای آرایه باشد</li>\n",
    "      <li> <p style=\"text-align: right;\" >\n",
    "          سپس آرایه به دو زیر آرایه تقسیم می شود</p> </li>\n",
    "      یک زیر آرایه حاوی عناصر کوچکتر از پیوت و یک زیر آرایه با عناصر بزرگتر  پیوت\n",
    "      این عمل با مقایسه عناصر آرایه با پیوت انجام می شود\n",
    "    <li>\n",
    "        <p style=\"text-align: right;\" >\n",
    "            به صورت بازگشتی الگوریتم مرتب سازی سریع برای هر یک از زیر آرایه ها تکرار می شود \n",
    "      </br>\n",
    "      این عمل آنقدر تکرار می شود تا آرایه به زیر آرایه کوچکتر تقسیم نشود \n",
    "        </p>  \n",
    "    </li>\n",
    "    <li>\n",
    "        <p style=\"text-align: right;\" >           \n",
    "            وقتی زیر آرایه ها به طور جداگانه مرتب شوند آرایه با ترکیب  دو زیر آرایه مرتب شده ، مرتب می کنیم\n",
    "        </br>\n",
    "            بدین صورت که ابتدا آرایه با عناصر کوچک تر از محور سپس عنصر محور و یعد از آن آرایه با عناصر بزرگتر از محور            \n",
    "        </p>\n",
    "     </li>\n",
    "  </ol>\n",
    "  \n",
    "  <p style=\"text-align: right;\" >  \n",
    "    زمان اجرا الگوریتم به صورت متوسط O(nlogn) است\n",
    "   </br>\n",
    "   در بدتربن حالت یعنی در صورتی که پیوت برابر با بزرگترین یا کوچکترین عنصر آرایه باشد زمان اجرا O(n^2) است \n",
    "  </p>\n",
    "</div>\n"
   ]
  },
  {
   "cell_type": "code",
   "execution_count": 16,
   "id": "c95af3be",
   "metadata": {},
   "outputs": [
    {
     "name": "stdout",
     "output_type": "stream",
     "text": [
      "Original array: [ 9.   1.   4.   5.   6.   0.5  8.  -1.  -0.5  6.   8. ]\n",
      "Sorted array in ascending order: [-1.  -0.5  0.5  1.   4.   5.   6.   6.   8.   8.   9. ]\n",
      "Original array: [ 9.   1.   4.   5.   6.   0.5  8.  -1.  -0.5  6.   8. ]\n",
      "Sorted array in ascending order: [-1.  -0.5  0.5  1.   4.   5.   6.   6.   8.   8.   9. ]\n",
      "Original array changed: [-1.  -0.5  0.5  1.   4.   5.   6.   6.   8.   8.   9. ]\n"
     ]
    }
   ],
   "source": [
    "import numpy as np\n",
    "\n",
    "# Example usage:\n",
    "numbers = np.array([9,1.0, 4.0, 5.0, 6.0, 0.5, 8.0, -1.0, -0.5, 6.0, 8.0])\n",
    "\n",
    "print(\"Original array:\", numbers)\n",
    "#sort inplace= false\n",
    "sorted_numbers =np.sort(numbers ,kind=\"quicksort\")\n",
    "\n",
    "print(\"Sorted array in ascending order:\", sorted_numbers)\n",
    "\n",
    "#sort inplace= true\n",
    "print(\"Original array:\", numbers)\n",
    "numbers.sort(kind=\"quicksort\")\n",
    "print(\"Sorted array in ascending order:\", numbers)\n",
    "print(\"Original array changed:\", numbers)\n"
   ]
  },
  {
   "cell_type": "code",
   "execution_count": 18,
   "id": "76f6aa2d",
   "metadata": {},
   "outputs": [
    {
     "name": "stdout",
     "output_type": "stream",
     "text": [
      "Original array: [ 9.   1.   4.   5.   6.   0.5  8.  -1.  -0.5  6.   8. ]\n",
      "Sorted array in ascending order: [-1.  -0.5  0.5  1.   4.   5.   6.   6.   8.   8.   9. ]\n",
      "Original array: ['a' 'bc' 'asfs' 'A' '1']\n",
      "Sorted array in ascending order: ['1' 'A' 'a' 'asfs' 'bc']\n"
     ]
    }
   ],
   "source": [
    "import numpy as np\n",
    "def quick_sort(arr):\n",
    "    if len(arr) <= 1:\n",
    "        return arr\n",
    "\n",
    "    pivot = arr[len(arr) // 2]\n",
    "    less = arr[arr < pivot]\n",
    "    equal= arr[arr == pivot]\n",
    "    greater = arr[arr> pivot]\n",
    "    \n",
    "    return np.concatenate((quick_sort(less), equal, quick_sort(greater)))\n",
    "\n",
    "\n",
    "# Example usage:\n",
    "numbers = np.array([9,1.0, 4.0, 5.0, 6.0, 0.5, 8.0, -1.0, -0.5, 6.0, 8.0])\n",
    "print(\"Original array:\", numbers)\n",
    "sorted_numbers = quick_sort(numbers)\n",
    "print(\"Sorted array in ascending order:\", sorted_numbers)\n",
    "\n"
   ]
  },
  {
   "cell_type": "markdown",
   "id": "ba3e0382",
   "metadata": {},
   "source": [
    "# HeapSort"
   ]
  },
  {
   "cell_type": "markdown",
   "id": "12189de4",
   "metadata": {},
   "source": [
    "\n",
    "<div style=\"direction: rtl;\">\n",
    "    <p style=\"text-align: right;\" >\n",
    "        الگوریتم Heap Sort یک الگوریتم مرتب سازی است که از ساختمان داده هیپ استفاده می کند. این الگوریتم را می توان به سه بخش اصلی تقسیم کرد: ساخت هیپ اولیه، حذف ریشه و بازسازی هیپ.\n",
    "    </p>\n",
    "  <ul>\n",
    "    <li>\tساخت هیپ اولیه:</li>\n",
    "      <ol>\n",
    "          <li>آرایه ورودی را به عنوان یک هیپ در نظر می گیریم.</li>\n",
    "          <li>از آخرین عنصر غیربرگ شروع کرده و هر گره را به ترتیب به سمت بالا پیمایش می کنیم.</li>\n",
    "          <li>در هر گره، اگر مقدار آن کمتر از یکی از فرزندانش بود، مقادیر را تعویض می کنیم تا خاصیت هیپ حفظ شود.</li>\n",
    "          <li>این عملیات را بر روی تمام گره ها تا ریشه انجام می دهیم.</li>\n",
    "          <li>پس از اتمام این مرحله، آرایه به صورت یک هیپ Max ساخته شده است.</li>       \n",
    "      </ol>\n",
    "  </ul>\n",
    "  <ul>\n",
    "    <li>حذف ریشه:</li>\n",
    "      <ol>\n",
    "          <li>ریشه هیپ (که بزرگترین عنصر است) را با آخرین عنصر هیپ جابجا می کنیم.</li>\n",
    "          <li>آخرین عنصر را از هیپ حذف می کنیم.</li>\n",
    "          <li>سپس بازسازی هیپ را با ریشه جدید انجام می دهیم تا خاصیت هیپ حفظ شود.</li>          \n",
    "      </ol>\n",
    "  </ul>\n",
    "  <ul>\n",
    "    <li>بازسازی هیپ:</li>\n",
    "      <ol>\n",
    "          <li>از ریشه هیپ شروع کرده و هر گره را به ترتیب به سمت پایین پیمایش می کنیم.</li>\n",
    "          <li>در هر گره، بین آن و دو فرزندش بزرگترین مقدار را انتخاب می کنیم.</li>\n",
    "          <li>اگر بزرگترین مقدار در فرزند چپ بود، مقادیر را تعویض می کنیم.</li>\n",
    "          <li>این عملیات را تا زمانی که گره به صورت صحیح در هیپ قرار گیرد و دیگر فرزندی نداشته باشد، ادامه می دهیم</li>\n",
    "      </ol>\n",
    "          \n",
    "      \n",
    "  </ul>\n",
    " <p style=\"text-align: right;\" >      \n",
    "مرتب سازی در مرحله حذف ریشه هیپ انجام می شود. هر بار که ریشه هیپ (بزرگترین عنصر) حذف می شود و جایگزین آن با آخرین عنصر هیپ می شود، هیپ باقی مانده دوباره بازسازی می شود تا بزرگترین عنصر در ریشه قرار بگیرد. با تکرار این عملیات بر روی هیپ، آرایه به صورت صعودی مرتب می شود. پس از اتمام عملیات حذف ریشه، آرایه مرتب شده به دست می آید. </p>\n",
    "\n",
    "</div>\n",
    "\n",
    "\n"
   ]
  },
  {
   "cell_type": "code",
   "execution_count": 26,
   "id": "f966f4ad",
   "metadata": {},
   "outputs": [
    {
     "name": "stdout",
     "output_type": "stream",
     "text": [
      "Original array: [ 9.   1.   4.   5.   6.   0.5  8.  -1.  -0.5  6.   8. ]\n",
      "Sorted array in ascending order: [-1.  -0.5  0.5  1.   4.   5.   6.   6.   8.   8.   9. ]\n",
      "Original array: [ 9.   1.   4.   5.   6.   0.5  8.  -1.  -0.5  6.   8. ]\n",
      "Sorted array in ascending order: [-1.  -0.5  0.5  1.   4.   5.   6.   6.   8.   8.   9. ]\n",
      "Original array changed: [-1.  -0.5  0.5  1.   4.   5.   6.   6.   8.   8.   9. ]\n"
     ]
    }
   ],
   "source": [
    "import numpy as np\n",
    "\n",
    "# Example usage:\n",
    "numbers = np.array([9,1.0, 4.0, 5.0, 6.0, 0.5, 8.0, -1.0, -0.5, 6.0, 8.0])\n",
    "\n",
    "print(\"Original array:\", numbers)\n",
    "#sort inplace= false\n",
    "sorted_numbers =np.sort(numbers ,kind=\"heapsort\")\n",
    "\n",
    "print(\"Sorted array in ascending order:\", sorted_numbers)\n",
    "\n",
    "#sort inplace= true\n",
    "print(\"Original array:\", numbers)\n",
    "numbers.sort(kind=\"quicksort\")\n",
    "print(\"Sorted array in ascending order:\", numbers)\n",
    "print(\"Original array changed:\", numbers)"
   ]
  },
  {
   "cell_type": "code",
   "execution_count": 3,
   "id": "d8339bc6",
   "metadata": {},
   "outputs": [
    {
     "name": "stdout",
     "output_type": "stream",
     "text": [
      "Original array: [ 9.   1.   4.   5.   6.   0.5  8.  -1.  -0.5  6.   8. ]\n",
      "Sorted array in ascending order: [-1.  -0.5  0.5  1.   4.   5.   6.   6.   8.   8.   9. ]\n"
     ]
    }
   ],
   "source": [
    "import numpy as np\n",
    "\n",
    "def heapify(arr, n, i):\n",
    "    max_index = i\n",
    "    left = 2 * i + 1\n",
    "    right = 2 * i + 2\n",
    "    #print(\"indices\",max_index,left,right)\n",
    "    #print(arr)\n",
    "\n",
    "    indices = np.array([max_index, left, right])\n",
    "    valid_indices = indices[indices < n]\n",
    "\n",
    "    if valid_indices.size > 0:\n",
    "        max_index = np.argmax(arr[valid_indices])\n",
    "        max_child = valid_indices[max_index]\n",
    "\n",
    "        if arr[max_child] > arr[i]:\n",
    "            arr[i], arr[max_child] = arr[max_child], arr[i]            \n",
    "            heapify(arr, n, max_child)\n",
    "\n",
    "\n",
    "def build_max_heap(arr, n, i):\n",
    "    heapify(arr, n, i)\n",
    "    if i > 0:\n",
    "        build_max_heap(arr, n, i - 1)\n",
    "        \n",
    "def heap_sort(arr):\n",
    "    n = arr.size\n",
    "\n",
    "    if n > 1:\n",
    "        # Build max heap recursively\n",
    "        build_max_heap(arr, n, n // 2 - 1)        \n",
    "        \n",
    "\n",
    "        # Sort the array recursively\n",
    "        def sort(arr, n):\n",
    "            if n > 1:\n",
    "                arr[0], arr[n-1] = arr[n-1], arr[0]  # Swap\n",
    "                heapify(arr, n-1, 0)\n",
    "                sort(arr, n-1)\n",
    "\n",
    "        sort(arr, n)\n",
    "\n",
    " #Example usage\n",
    "numbers = np.array([9,1.0, 4.0, 5.0, 6.0, 0.5, 8.0, -1.0, -0.5, 6.0, 8.0])\n",
    "print(\"Original array:\",numbers)\n",
    "\n",
    "heap_sort(numbers)\n",
    "print(\"Sorted array in ascending order:\", numbers)"
   ]
  },
  {
   "cell_type": "markdown",
   "id": "40ca4cd2",
   "metadata": {},
   "source": [
    "# Asks user to enter array and sort method"
   ]
  },
  {
   "cell_type": "code",
   "execution_count": 4,
   "id": "29d8fc6b",
   "metadata": {},
   "outputs": [
    {
     "name": "stdout",
     "output_type": "stream",
     "text": [
      "Enter a list of numbers separated by spaces or commas: -1,0,-5,-100,0,8,10,4\n",
      "Original array:\n",
      " [  -1.    0.   -5. -100.    0.    8.   10.    4.]\n",
      "Enter a character (M, Q, H) or any other to exit: Q\n",
      "QuickSort : Sorted array in ascending order:\n",
      " [-100.   -5.   -1.    0.    0.    4.    8.   10.] \n",
      "\n",
      "Enter a character (M, Q, H) or any other to exit: H\n",
      "HeapSort : Sorted array in ascending order:\n",
      " [-100.   -5.   -1.    0.    0.    4.    8.   10.] \n",
      "\n",
      "Enter a character (M, Q, H) or any other to exit: M\n",
      "MergeSort : Sorted array in ascending order: \n",
      " [-100.   -5.   -1.    0.    0.    4.    8.   10.] \n",
      "\n",
      "Enter a character (M, Q, H) or any other to exit:  \n",
      "Exiting...\n"
     ]
    }
   ],
   "source": [
    "\n",
    "# Example usage:\n",
    "user_input = input(\"Enter a list of numbers separated by spaces or commas: \")\n",
    "numbers = np.array(user_input.replace(',', ' ').split() , dtype=float)\n",
    "print(\"Original array:\\n\", numbers)\n",
    "  \n",
    "\n",
    "while True:\n",
    "    \n",
    "    arr=numbers.copy()\n",
    "     \n",
    "    key = input(\"Enter a character (M, Q, H) or any other to exit: \")\n",
    "    \n",
    "    if key.upper() == \"M\" :\n",
    "        s = merge_sort(arr)\n",
    "        print(\"MergeSort : Sorted array in ascending order: \\n\", s,\"\\n\")\n",
    "    elif key.upper() == \"Q\" :\n",
    "        s= quick_sort(arr)\n",
    "        print(\"QuickSort : Sorted array in ascending order:\\n\", s,\"\\n\")\n",
    "    elif key.upper() == \"H\" :\n",
    "        heap_sort(arr)\n",
    "        print(\"HeapSort : Sorted array in ascending order:\\n\", arr,\"\\n\")\n",
    "\n",
    "    else:       \n",
    "        print(\"Exiting...\")\n",
    "        break\n",
    "        \n",
    "        \n",
    "\n",
    "    \n"
   ]
  },
  {
   "cell_type": "code",
   "execution_count": null,
   "id": "c86e9103",
   "metadata": {},
   "outputs": [],
   "source": []
  },
  {
   "cell_type": "code",
   "execution_count": null,
   "id": "c791faf6",
   "metadata": {},
   "outputs": [],
   "source": []
  }
 ],
 "metadata": {
  "kernelspec": {
   "display_name": "Python 3 (ipykernel)",
   "language": "python",
   "name": "python3"
  },
  "language_info": {
   "codemirror_mode": {
    "name": "ipython",
    "version": 3
   },
   "file_extension": ".py",
   "mimetype": "text/x-python",
   "name": "python",
   "nbconvert_exporter": "python",
   "pygments_lexer": "ipython3",
   "version": "3.10.9"
  }
 },
 "nbformat": 4,
 "nbformat_minor": 5
}

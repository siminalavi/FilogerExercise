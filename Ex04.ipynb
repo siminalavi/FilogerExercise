{
 "cells": [
  {
   "cell_type": "code",
   "execution_count": 306,
   "id": "d114fc0c",
   "metadata": {},
   "outputs": [],
   "source": [
    "import pandas as pd\n",
    "from scipy import stats\n",
    "import matplotlib.pyplot as plt\n",
    "import numpy as np"
   ]
  },
  {
   "cell_type": "code",
   "execution_count": 307,
   "id": "0a532817",
   "metadata": {},
   "outputs": [
    {
     "data": {
      "text/plain": [
       "(336776, 21)"
      ]
     },
     "execution_count": 307,
     "metadata": {},
     "output_type": "execute_result"
    }
   ],
   "source": [
    "flight= pd.read_csv('flights.csv')\n",
    "\n",
    "flight.shape"
   ]
  },
  {
   "cell_type": "code",
   "execution_count": 308,
   "id": "1882a8a1",
   "metadata": {},
   "outputs": [
    {
     "data": {
      "text/html": [
       "<div>\n",
       "<style scoped>\n",
       "    .dataframe tbody tr th:only-of-type {\n",
       "        vertical-align: middle;\n",
       "    }\n",
       "\n",
       "    .dataframe tbody tr th {\n",
       "        vertical-align: top;\n",
       "    }\n",
       "\n",
       "    .dataframe thead th {\n",
       "        text-align: right;\n",
       "    }\n",
       "</style>\n",
       "<table border=\"1\" class=\"dataframe\">\n",
       "  <thead>\n",
       "    <tr style=\"text-align: right;\">\n",
       "      <th></th>\n",
       "      <th>id</th>\n",
       "      <th>year</th>\n",
       "      <th>month</th>\n",
       "      <th>day</th>\n",
       "      <th>dep_time</th>\n",
       "      <th>sched_dep_time</th>\n",
       "      <th>dep_delay</th>\n",
       "      <th>arr_time</th>\n",
       "      <th>sched_arr_time</th>\n",
       "      <th>arr_delay</th>\n",
       "      <th>...</th>\n",
       "      <th>flight</th>\n",
       "      <th>tailnum</th>\n",
       "      <th>origin</th>\n",
       "      <th>dest</th>\n",
       "      <th>air_time</th>\n",
       "      <th>distance</th>\n",
       "      <th>hour</th>\n",
       "      <th>minute</th>\n",
       "      <th>time_hour</th>\n",
       "      <th>name</th>\n",
       "    </tr>\n",
       "  </thead>\n",
       "  <tbody>\n",
       "    <tr>\n",
       "      <th>0</th>\n",
       "      <td>0</td>\n",
       "      <td>2013</td>\n",
       "      <td>1</td>\n",
       "      <td>1</td>\n",
       "      <td>517.0</td>\n",
       "      <td>515</td>\n",
       "      <td>2.0</td>\n",
       "      <td>830.0</td>\n",
       "      <td>819</td>\n",
       "      <td>11.0</td>\n",
       "      <td>...</td>\n",
       "      <td>1545</td>\n",
       "      <td>N14228</td>\n",
       "      <td>EWR</td>\n",
       "      <td>IAH</td>\n",
       "      <td>227.0</td>\n",
       "      <td>1400</td>\n",
       "      <td>5</td>\n",
       "      <td>15</td>\n",
       "      <td>2013-01-01 05:00:00</td>\n",
       "      <td>United Air Lines Inc.</td>\n",
       "    </tr>\n",
       "    <tr>\n",
       "      <th>1</th>\n",
       "      <td>1</td>\n",
       "      <td>2013</td>\n",
       "      <td>1</td>\n",
       "      <td>1</td>\n",
       "      <td>533.0</td>\n",
       "      <td>529</td>\n",
       "      <td>4.0</td>\n",
       "      <td>850.0</td>\n",
       "      <td>830</td>\n",
       "      <td>20.0</td>\n",
       "      <td>...</td>\n",
       "      <td>1714</td>\n",
       "      <td>N24211</td>\n",
       "      <td>LGA</td>\n",
       "      <td>IAH</td>\n",
       "      <td>227.0</td>\n",
       "      <td>1416</td>\n",
       "      <td>5</td>\n",
       "      <td>29</td>\n",
       "      <td>2013-01-01 05:00:00</td>\n",
       "      <td>United Air Lines Inc.</td>\n",
       "    </tr>\n",
       "    <tr>\n",
       "      <th>2</th>\n",
       "      <td>2</td>\n",
       "      <td>2013</td>\n",
       "      <td>1</td>\n",
       "      <td>1</td>\n",
       "      <td>542.0</td>\n",
       "      <td>540</td>\n",
       "      <td>2.0</td>\n",
       "      <td>923.0</td>\n",
       "      <td>850</td>\n",
       "      <td>33.0</td>\n",
       "      <td>...</td>\n",
       "      <td>1141</td>\n",
       "      <td>N619AA</td>\n",
       "      <td>JFK</td>\n",
       "      <td>MIA</td>\n",
       "      <td>160.0</td>\n",
       "      <td>1089</td>\n",
       "      <td>5</td>\n",
       "      <td>40</td>\n",
       "      <td>2013-01-01 05:00:00</td>\n",
       "      <td>American Airlines Inc.</td>\n",
       "    </tr>\n",
       "    <tr>\n",
       "      <th>3</th>\n",
       "      <td>3</td>\n",
       "      <td>2013</td>\n",
       "      <td>1</td>\n",
       "      <td>1</td>\n",
       "      <td>544.0</td>\n",
       "      <td>545</td>\n",
       "      <td>-1.0</td>\n",
       "      <td>1004.0</td>\n",
       "      <td>1022</td>\n",
       "      <td>-18.0</td>\n",
       "      <td>...</td>\n",
       "      <td>725</td>\n",
       "      <td>N804JB</td>\n",
       "      <td>JFK</td>\n",
       "      <td>BQN</td>\n",
       "      <td>183.0</td>\n",
       "      <td>1576</td>\n",
       "      <td>5</td>\n",
       "      <td>45</td>\n",
       "      <td>2013-01-01 05:00:00</td>\n",
       "      <td>JetBlue Airways</td>\n",
       "    </tr>\n",
       "    <tr>\n",
       "      <th>4</th>\n",
       "      <td>4</td>\n",
       "      <td>2013</td>\n",
       "      <td>1</td>\n",
       "      <td>1</td>\n",
       "      <td>554.0</td>\n",
       "      <td>600</td>\n",
       "      <td>-6.0</td>\n",
       "      <td>812.0</td>\n",
       "      <td>837</td>\n",
       "      <td>-25.0</td>\n",
       "      <td>...</td>\n",
       "      <td>461</td>\n",
       "      <td>N668DN</td>\n",
       "      <td>LGA</td>\n",
       "      <td>ATL</td>\n",
       "      <td>116.0</td>\n",
       "      <td>762</td>\n",
       "      <td>6</td>\n",
       "      <td>0</td>\n",
       "      <td>2013-01-01 06:00:00</td>\n",
       "      <td>Delta Air Lines Inc.</td>\n",
       "    </tr>\n",
       "  </tbody>\n",
       "</table>\n",
       "<p>5 rows × 21 columns</p>\n",
       "</div>"
      ],
      "text/plain": [
       "   id  year  month  day  dep_time  sched_dep_time  dep_delay  arr_time  \\\n",
       "0   0  2013      1    1     517.0             515        2.0     830.0   \n",
       "1   1  2013      1    1     533.0             529        4.0     850.0   \n",
       "2   2  2013      1    1     542.0             540        2.0     923.0   \n",
       "3   3  2013      1    1     544.0             545       -1.0    1004.0   \n",
       "4   4  2013      1    1     554.0             600       -6.0     812.0   \n",
       "\n",
       "   sched_arr_time  arr_delay  ... flight  tailnum origin dest air_time  \\\n",
       "0             819       11.0  ...   1545   N14228    EWR  IAH    227.0   \n",
       "1             830       20.0  ...   1714   N24211    LGA  IAH    227.0   \n",
       "2             850       33.0  ...   1141   N619AA    JFK  MIA    160.0   \n",
       "3            1022      -18.0  ...    725   N804JB    JFK  BQN    183.0   \n",
       "4             837      -25.0  ...    461   N668DN    LGA  ATL    116.0   \n",
       "\n",
       "   distance  hour  minute            time_hour                    name  \n",
       "0      1400     5      15  2013-01-01 05:00:00   United Air Lines Inc.  \n",
       "1      1416     5      29  2013-01-01 05:00:00   United Air Lines Inc.  \n",
       "2      1089     5      40  2013-01-01 05:00:00  American Airlines Inc.  \n",
       "3      1576     5      45  2013-01-01 05:00:00         JetBlue Airways  \n",
       "4       762     6       0  2013-01-01 06:00:00    Delta Air Lines Inc.  \n",
       "\n",
       "[5 rows x 21 columns]"
      ]
     },
     "execution_count": 308,
     "metadata": {},
     "output_type": "execute_result"
    }
   ],
   "source": [
    "flight.head(5)\n"
   ]
  },
  {
   "cell_type": "code",
   "execution_count": 309,
   "id": "8f8ed3ac",
   "metadata": {
    "scrolled": true
   },
   "outputs": [
    {
     "name": "stdout",
     "output_type": "stream",
     "text": [
      "<class 'pandas.core.frame.DataFrame'>\n",
      "RangeIndex: 336776 entries, 0 to 336775\n",
      "Data columns (total 21 columns):\n",
      " #   Column          Non-Null Count   Dtype  \n",
      "---  ------          --------------   -----  \n",
      " 0   id              336776 non-null  int64  \n",
      " 1   year            336776 non-null  int64  \n",
      " 2   month           336776 non-null  int64  \n",
      " 3   day             336776 non-null  int64  \n",
      " 4   dep_time        328521 non-null  float64\n",
      " 5   sched_dep_time  336776 non-null  int64  \n",
      " 6   dep_delay       328521 non-null  float64\n",
      " 7   arr_time        328063 non-null  float64\n",
      " 8   sched_arr_time  336776 non-null  int64  \n",
      " 9   arr_delay       327346 non-null  float64\n",
      " 10  carrier         336776 non-null  object \n",
      " 11  flight          336776 non-null  int64  \n",
      " 12  tailnum         334264 non-null  object \n",
      " 13  origin          336776 non-null  object \n",
      " 14  dest            336776 non-null  object \n",
      " 15  air_time        327346 non-null  float64\n",
      " 16  distance        336776 non-null  int64  \n",
      " 17  hour            336776 non-null  int64  \n",
      " 18  minute          336776 non-null  int64  \n",
      " 19  time_hour       336776 non-null  object \n",
      " 20  name            336776 non-null  object \n",
      "dtypes: float64(5), int64(10), object(6)\n",
      "memory usage: 54.0+ MB\n"
     ]
    }
   ],
   "source": [
    "flight.info()"
   ]
  },
  {
   "cell_type": "markdown",
   "id": "96c8c89a",
   "metadata": {},
   "source": [
    "# Pre Processing"
   ]
  },
  {
   "cell_type": "code",
   "execution_count": 310,
   "id": "0cef48b1",
   "metadata": {},
   "outputs": [],
   "source": [
    "# drop missing value \n",
    "#data_drop_missing = flight.dropna()\n",
    "data=df.copy()"
   ]
  },
  {
   "cell_type": "code",
   "execution_count": 311,
   "id": "919c4fcb",
   "metadata": {},
   "outputs": [
    {
     "name": "stdout",
     "output_type": "stream",
     "text": [
      "id                   int64\n",
      "year              category\n",
      "month             category\n",
      "day               category\n",
      "dep_time           float64\n",
      "sched_dep_time       int64\n",
      "dep_delay          float64\n",
      "arr_time           float64\n",
      "sched_arr_time       int64\n",
      "arr_delay          float64\n",
      "carrier           category\n",
      "flight               int64\n",
      "tailnum           category\n",
      "origin            category\n",
      "dest              category\n",
      "air_time           float64\n",
      "distance             int64\n",
      "hour                 int64\n",
      "minute               int64\n",
      "time_hour         category\n",
      "name              category\n",
      "dtype: object\n"
     ]
    }
   ],
   "source": [
    "# change all non-numerical variables or variables with a categorical nature to the categorical data type\n",
    "\n",
    "# Iterate through each column\n",
    "for column in data.columns:\n",
    "    # Check if the column is non-numerical or has a categorical nature\n",
    "    if not pd.api.types.is_numeric_dtype(data[column]) :\n",
    "        # Convert the column to the categorical data type\n",
    "        data[column] = data[column].astype('category')\n",
    "    #assume day part is categorical   \n",
    "    \n",
    "    data[\"year\"] =data[\"year\"].astype('category')\n",
    "    data[\"month\"] =data[\"month\"].astype('category')\n",
    "    data[\"day\"] =data[\"day\"].astype('category')\n",
    "# Verify the updated data types\n",
    "print(data.dtypes)\n"
   ]
  },
  {
   "cell_type": "markdown",
   "id": "a23c3960",
   "metadata": {},
   "source": [
    "## add Calculated column to dataframe"
   ]
  },
  {
   "cell_type": "code",
   "execution_count": 312,
   "id": "fe92ce7d",
   "metadata": {
    "scrolled": true
   },
   "outputs": [
    {
     "data": {
      "text/html": [
       "<div>\n",
       "<style scoped>\n",
       "    .dataframe tbody tr th:only-of-type {\n",
       "        vertical-align: middle;\n",
       "    }\n",
       "\n",
       "    .dataframe tbody tr th {\n",
       "        vertical-align: top;\n",
       "    }\n",
       "\n",
       "    .dataframe thead th {\n",
       "        text-align: right;\n",
       "    }\n",
       "</style>\n",
       "<table border=\"1\" class=\"dataframe\">\n",
       "  <thead>\n",
       "    <tr style=\"text-align: right;\">\n",
       "      <th></th>\n",
       "      <th>id</th>\n",
       "      <th>year</th>\n",
       "      <th>month</th>\n",
       "      <th>day</th>\n",
       "      <th>dep_time</th>\n",
       "      <th>sched_dep_time</th>\n",
       "      <th>dep_delay</th>\n",
       "      <th>arr_time</th>\n",
       "      <th>sched_arr_time</th>\n",
       "      <th>arr_delay</th>\n",
       "      <th>...</th>\n",
       "      <th>tailnum</th>\n",
       "      <th>origin</th>\n",
       "      <th>dest</th>\n",
       "      <th>air_time</th>\n",
       "      <th>distance</th>\n",
       "      <th>hour</th>\n",
       "      <th>minute</th>\n",
       "      <th>time_hour</th>\n",
       "      <th>name</th>\n",
       "      <th>date</th>\n",
       "    </tr>\n",
       "  </thead>\n",
       "  <tbody>\n",
       "    <tr>\n",
       "      <th>0</th>\n",
       "      <td>0</td>\n",
       "      <td>2013</td>\n",
       "      <td>1</td>\n",
       "      <td>1</td>\n",
       "      <td>517.0</td>\n",
       "      <td>515</td>\n",
       "      <td>2.0</td>\n",
       "      <td>830.0</td>\n",
       "      <td>819</td>\n",
       "      <td>11.0</td>\n",
       "      <td>...</td>\n",
       "      <td>N14228</td>\n",
       "      <td>EWR</td>\n",
       "      <td>IAH</td>\n",
       "      <td>227.0</td>\n",
       "      <td>1400</td>\n",
       "      <td>5</td>\n",
       "      <td>15</td>\n",
       "      <td>2013-01-01 05:00:00</td>\n",
       "      <td>United Air Lines Inc.</td>\n",
       "      <td>2013-01-01</td>\n",
       "    </tr>\n",
       "  </tbody>\n",
       "</table>\n",
       "<p>1 rows × 22 columns</p>\n",
       "</div>"
      ],
      "text/plain": [
       "   id  year month day  dep_time  sched_dep_time  dep_delay  arr_time  \\\n",
       "0   0  2013     1   1     517.0             515        2.0     830.0   \n",
       "\n",
       "   sched_arr_time  arr_delay  ... tailnum  origin dest air_time distance  \\\n",
       "0             819       11.0  ...  N14228     EWR  IAH    227.0     1400   \n",
       "\n",
       "   hour  minute            time_hour                   name       date  \n",
       "0     5      15  2013-01-01 05:00:00  United Air Lines Inc. 2013-01-01  \n",
       "\n",
       "[1 rows x 22 columns]"
      ]
     },
     "execution_count": 312,
     "metadata": {},
     "output_type": "execute_result"
    }
   ],
   "source": [
    "#add date based on column year ,month and day\n",
    "data[\"date\"] = data['date'] = pd.to_datetime(data[['year','month','day']])\n",
    "#data[\"date\"] =data[\"date\"].astype('category')\n",
    "data.head(1)"
   ]
  },
  {
   "cell_type": "code",
   "execution_count": 313,
   "id": "1516547b",
   "metadata": {
    "scrolled": true
   },
   "outputs": [
    {
     "data": {
      "text/html": [
       "<div>\n",
       "<style scoped>\n",
       "    .dataframe tbody tr th:only-of-type {\n",
       "        vertical-align: middle;\n",
       "    }\n",
       "\n",
       "    .dataframe tbody tr th {\n",
       "        vertical-align: top;\n",
       "    }\n",
       "\n",
       "    .dataframe thead th {\n",
       "        text-align: right;\n",
       "    }\n",
       "</style>\n",
       "<table border=\"1\" class=\"dataframe\">\n",
       "  <thead>\n",
       "    <tr style=\"text-align: right;\">\n",
       "      <th></th>\n",
       "      <th>id</th>\n",
       "      <th>year</th>\n",
       "      <th>month</th>\n",
       "      <th>day</th>\n",
       "      <th>dep_time</th>\n",
       "      <th>sched_dep_time</th>\n",
       "      <th>dep_delay</th>\n",
       "      <th>arr_time</th>\n",
       "      <th>sched_arr_time</th>\n",
       "      <th>arr_delay</th>\n",
       "      <th>...</th>\n",
       "      <th>origin</th>\n",
       "      <th>dest</th>\n",
       "      <th>air_time</th>\n",
       "      <th>distance</th>\n",
       "      <th>hour</th>\n",
       "      <th>minute</th>\n",
       "      <th>time_hour</th>\n",
       "      <th>name</th>\n",
       "      <th>date</th>\n",
       "      <th>cancelled</th>\n",
       "    </tr>\n",
       "  </thead>\n",
       "  <tbody>\n",
       "    <tr>\n",
       "      <th>0</th>\n",
       "      <td>0</td>\n",
       "      <td>2013</td>\n",
       "      <td>1</td>\n",
       "      <td>1</td>\n",
       "      <td>517.0</td>\n",
       "      <td>515</td>\n",
       "      <td>2.0</td>\n",
       "      <td>830.0</td>\n",
       "      <td>819</td>\n",
       "      <td>11.0</td>\n",
       "      <td>...</td>\n",
       "      <td>EWR</td>\n",
       "      <td>IAH</td>\n",
       "      <td>227.0</td>\n",
       "      <td>1400</td>\n",
       "      <td>5</td>\n",
       "      <td>15</td>\n",
       "      <td>2013-01-01 05:00:00</td>\n",
       "      <td>United Air Lines Inc.</td>\n",
       "      <td>2013-01-01</td>\n",
       "      <td>0</td>\n",
       "    </tr>\n",
       "  </tbody>\n",
       "</table>\n",
       "<p>1 rows × 23 columns</p>\n",
       "</div>"
      ],
      "text/plain": [
       "   id  year month day  dep_time  sched_dep_time  dep_delay  arr_time  \\\n",
       "0   0  2013     1   1     517.0             515        2.0     830.0   \n",
       "\n",
       "   sched_arr_time  arr_delay  ... origin  dest air_time distance hour  minute  \\\n",
       "0             819       11.0  ...    EWR   IAH    227.0     1400    5      15   \n",
       "\n",
       "             time_hour                   name       date cancelled  \n",
       "0  2013-01-01 05:00:00  United Air Lines Inc. 2013-01-01         0  \n",
       "\n",
       "[1 rows x 23 columns]"
      ]
     },
     "execution_count": 313,
     "metadata": {},
     "output_type": "execute_result"
    }
   ],
   "source": [
    "# add cancelled flight based on flight that has never departured and arrived\n",
    "data[\"cancelled\"] = np.where(data[\"dep_time\"].isnull() & data[\"arr_time\"].isnull(), 1, 0)\n",
    "#data[\"cancelled\"] =data[\"cancelled\"].astype('category')\n",
    "data.head(1)"
   ]
  },
  {
   "cell_type": "code",
   "execution_count": 314,
   "id": "ca843d8a",
   "metadata": {},
   "outputs": [
    {
     "data": {
      "text/html": [
       "<div>\n",
       "<style scoped>\n",
       "    .dataframe tbody tr th:only-of-type {\n",
       "        vertical-align: middle;\n",
       "    }\n",
       "\n",
       "    .dataframe tbody tr th {\n",
       "        vertical-align: top;\n",
       "    }\n",
       "\n",
       "    .dataframe thead th {\n",
       "        text-align: right;\n",
       "    }\n",
       "</style>\n",
       "<table border=\"1\" class=\"dataframe\">\n",
       "  <thead>\n",
       "    <tr style=\"text-align: right;\">\n",
       "      <th></th>\n",
       "      <th>id</th>\n",
       "      <th>year</th>\n",
       "      <th>month</th>\n",
       "      <th>day</th>\n",
       "      <th>dep_time</th>\n",
       "      <th>sched_dep_time</th>\n",
       "      <th>dep_delay</th>\n",
       "      <th>arr_time</th>\n",
       "      <th>sched_arr_time</th>\n",
       "      <th>arr_delay</th>\n",
       "      <th>...</th>\n",
       "      <th>dest</th>\n",
       "      <th>air_time</th>\n",
       "      <th>distance</th>\n",
       "      <th>hour</th>\n",
       "      <th>minute</th>\n",
       "      <th>time_hour</th>\n",
       "      <th>name</th>\n",
       "      <th>date</th>\n",
       "      <th>cancelled</th>\n",
       "      <th>speed</th>\n",
       "    </tr>\n",
       "  </thead>\n",
       "  <tbody>\n",
       "    <tr>\n",
       "      <th>0</th>\n",
       "      <td>0</td>\n",
       "      <td>2013</td>\n",
       "      <td>1</td>\n",
       "      <td>1</td>\n",
       "      <td>517.0</td>\n",
       "      <td>515</td>\n",
       "      <td>2.0</td>\n",
       "      <td>830.0</td>\n",
       "      <td>819</td>\n",
       "      <td>11.0</td>\n",
       "      <td>...</td>\n",
       "      <td>IAH</td>\n",
       "      <td>227.0</td>\n",
       "      <td>1400</td>\n",
       "      <td>5</td>\n",
       "      <td>15</td>\n",
       "      <td>2013-01-01 05:00:00</td>\n",
       "      <td>United Air Lines Inc.</td>\n",
       "      <td>2013-01-01</td>\n",
       "      <td>0</td>\n",
       "      <td>6.167401</td>\n",
       "    </tr>\n",
       "  </tbody>\n",
       "</table>\n",
       "<p>1 rows × 24 columns</p>\n",
       "</div>"
      ],
      "text/plain": [
       "   id  year month day  dep_time  sched_dep_time  dep_delay  arr_time  \\\n",
       "0   0  2013     1   1     517.0             515        2.0     830.0   \n",
       "\n",
       "   sched_arr_time  arr_delay  ... dest  air_time distance hour minute  \\\n",
       "0             819       11.0  ...  IAH     227.0     1400    5     15   \n",
       "\n",
       "             time_hour                   name       date  cancelled     speed  \n",
       "0  2013-01-01 05:00:00  United Air Lines Inc. 2013-01-01          0  6.167401  \n",
       "\n",
       "[1 rows x 24 columns]"
      ]
     },
     "execution_count": 314,
     "metadata": {},
     "output_type": "execute_result"
    }
   ],
   "source": [
    "# add speed \n",
    "data[\"speed\"] = data[\"distance\"]/data[\"air_time\"]\n",
    "data.head(1)\n"
   ]
  },
  {
   "cell_type": "code",
   "execution_count": 315,
   "id": "f08efb8f",
   "metadata": {},
   "outputs": [],
   "source": [
    "def plothist (my_data ,variable ,bin_val):      \n",
    "        plt.hist(my_data[variable], bins=bin_val)      \n",
    "        plt.xlabel(variable)\n",
    "        plt.ylabel('Frequency')\n",
    "        plt.title('Histogram of : ' + variable + '  bins = ' + str(bin_val))\n",
    "        plt.show()\n",
    "        descriptive_stats\n"
   ]
  },
  {
   "cell_type": "code",
   "execution_count": 316,
   "id": "4179102c",
   "metadata": {},
   "outputs": [],
   "source": [
    "def outliers_filter_IQR (mydata , variable):\n",
    "    q1 = data[variable].quantile(0.25)\n",
    "    q3 = data[variable].quantile(0.75)\n",
    "    iqr = q3 - q1\n",
    "    # Calculate the lower and upper bounds for outliers\n",
    "    lower_bound = q1 - 1.5 * iqr\n",
    "    upper_bound = q3 + 1.5 * iqr   \n",
    "    # Filter the outliers from the DataFrame\n",
    "    filtered_data = (data[variable] >= lower_bound) & (data[variable] <= upper_bound)\n",
    "    return data[filtered_data]"
   ]
  },
  {
   "cell_type": "code",
   "execution_count": 317,
   "id": "000ea740",
   "metadata": {},
   "outputs": [],
   "source": [
    "def outliers_filter_3sigma(mydata , variable):    \n",
    "    sigma_3_range = (mean_value - 3 * std_value, mean_value + 3 * std_value)    \n",
    "    filtered_data =(data[variable] < sigma_3_range[0]) | (data[variable] > sigma_3_range[1])\n",
    "    return data[filtered_data]"
   ]
  },
  {
   "cell_type": "code",
   "execution_count": 318,
   "id": "e8bf3f82",
   "metadata": {},
   "outputs": [],
   "source": [
    "def statistics (data , variable) :\n",
    "        \n",
    "    # Compute descriptive statistics\n",
    "    min_value = data[variable].min()\n",
    "    max_value = data[variable].max()\n",
    "    mean_value = data[variable].mean()\n",
    "    median_value = data[variable].median()\n",
    "    trim_mean_value = stats.trim_mean(data[variable], 0.1)  # Trim 10% from both tails\n",
    "    mode_value = data[variable].mode().values[0]\n",
    "    std_value = data[variable].std()\n",
    "    trim_std_value = stats.mstats.trimmed_std (data[variable], limits=(0.1, 0.1))\n",
    "    skewness_value = data[variable].skew()\n",
    "    kurtosis_value = data[variable].kurtosis()\n",
    "    # Compute sigma ranges\n",
    "    sigma_1_range = (mean_value - std_value, mean_value + std_value)\n",
    "    sigma_2_range = (mean_value - 2 * std_value, mean_value + 2 * std_value)\n",
    "    sigma_3_range = (mean_value - 3 * std_value, mean_value + 3 * std_value)\n",
    "    \n",
    "    percent_within_1_sigma = stats.norm.cdf(sigma_1_range[1], mean_value, std_value) - stats.norm.cdf(sigma_1_range[0], mean_value, std_value)\n",
    "    percent_within_2_sigma = stats.norm.cdf(sigma_2_range[1], mean_value, std_value) - stats.norm.cdf(sigma_2_range[0], mean_value, std_value)\n",
    "    percent_within_3_sigma = stats.norm.cdf(sigma_3_range[1], mean_value, std_value) - stats.norm.cdf(sigma_3_range[0], mean_value, std_value)\n",
    "    \n",
    "    # Compute outliers\n",
    "    outliers = data[(data[variable] < sigma_3_range[0]) | (data[variable] > sigma_3_range[1])]\n",
    "    # Compute missing count\n",
    "    missing_count = data[variable].isnull().sum()\n",
    "    # Compute additional descriptive statistics\n",
    "    range_value = max_value - min_value\n",
    "    count_value = len(data[variable])\n",
    "    sum_value = data[variable].sum()\n",
    "    #quartiles = data[variable].quantile([0.25, 0.5, 0.75])\n",
    "    #iqr_value = quartiles[0.75] - quartiles[0.25]\n",
    "    \n",
    "    #cv_value = (std_value / mean_value) * 100\n",
    "    #skewness_test = stats.skewtest(data[variable])\n",
    "    # kurtosis_test = stats.kurtosistest(data[variable])\n",
    "\n",
    "    # Create a DataFrame to display the results\n",
    "    descriptive_stats = pd.DataFrame({\n",
    "        'Statistic': ['Min', 'Max', 'Mean', 'Median', 'Trim Mean', 'Mode', 'Standard Deviation', 'Trimmed Std',\n",
    "                  'Skewness', 'Kurtosis', '+- 1 Sigma', '+- 2 Sigma', '+- 3 Sigma', 'OutliersCount', 'Missing Count',\n",
    "                  'Range', 'Count', 'Sum',\n",
    "                      #'25th Percentile', '50th Percentile', '75th Percentile', 'IQR',\n",
    "                  #'Coefficient of Variation', 'Skewness Test', 'Kurtosis Test',\n",
    "                'percent_within_1_sigma','percent_within_2_sigma','percent_within_3_sigma'],\n",
    "        'Value': [min_value, max_value, mean_value, median_value, trim_mean_value, mode_value, std_value,\n",
    "              trim_std_value, skewness_value, kurtosis_value, sigma_1_range, sigma_2_range, sigma_3_range,\n",
    "              len(outliers), missing_count, range_value, count_value, sum_value,\n",
    "              #quartiles[0.25], quartiles[0.5], quartiles[0.75], iqr_value, cv_value,\n",
    "              #skewness_test, kurtosis_test,\n",
    "                  percent_within_1_sigma*100,percent_within_2_sigma*100,percent_within_3_sigma*100]\n",
    "    })\n",
    "       \n",
    "    # return the descriptive statistics   \n",
    "    \n",
    "    return descriptive_stats\n",
    "\n",
    "\n"
   ]
  },
  {
   "cell_type": "markdown",
   "id": "015dcc1f",
   "metadata": {},
   "source": [
    "# Descriptive analysis of  sched_dep_time "
   ]
  },
  {
   "cell_type": "code",
   "execution_count": 319,
   "id": "ed19ddb7",
   "metadata": {
    "scrolled": true
   },
   "outputs": [
    {
     "name": "stdout",
     "output_type": "stream",
     "text": [
      "                 Statistic                                     Value\n",
      "0                      Min                                       106\n",
      "1                      Max                                      2359\n",
      "2                     Mean                                1344.25484\n",
      "3                   Median                                    1359.0\n",
      "4                Trim Mean                                1341.60364\n",
      "5                     Mode                                       600\n",
      "6       Standard Deviation                                467.335756\n",
      "7              Trimmed Std                                 374.78573\n",
      "8                 Skewness                                 -0.005858\n",
      "9                 Kurtosis                                 -1.197903\n",
      "10              +- 1 Sigma   (876.9190842780029, 1811.5905957467019)\n",
      "11              +- 2 Sigma  (409.58332854365335, 2278.9263514810514)\n",
      "12              +- 3 Sigma  (-57.75242719069615, 2746.2621072154006)\n",
      "13           OutliersCount                                         0\n",
      "14           Missing Count                                         0\n",
      "15                   Range                                      2253\n",
      "16                   Count                                    336776\n",
      "17                     Sum                                 452712768\n",
      "18  percent_within_1_sigma                                 68.268949\n",
      "19  percent_within_2_sigma                                 95.449974\n",
      "20  percent_within_3_sigma                                  99.73002\n"
     ]
    }
   ],
   "source": [
    "variable = 'sched_dep_time'\n",
    "descriptive_stats = statistics (df , variable) \n",
    "print(descriptive_stats)\n"
   ]
  },
  {
   "cell_type": "markdown",
   "id": "e0be127d",
   "metadata": {},
   "source": [
    "<div style=\"direction: rtl;\">    در بررسی آماری زمان حرکت پرواز\n",
    "     </br>\n",
    "زودترین پرواز (ها) ساعت 5 صبح بوده است و دیر ترین پرواز ( ها) ساعت 23:59 شب\n",
    "میانگین زمان پروازها ساعت 13:40 بوده و نیمی از پرواز ها قبل از 13:55 و نیمی دیگر پس از این زمان بوده است. با حذف 10 درصد از داده ها از انتها و ابتدا میانگین زمان حرکت پرواز ها 13:36 بوده است. بیشترین تکرار پرواز ها در ساعت 6 صبح بوده است\n",
    "پراکندگی زمان پرواز از میانگین 467 بوده و پراکندگی زمان حرکت پرواز با حذف 10 درصد بزرگترین و کوچکترین داده ها 347 است. داده ها با توجه به معیار چولگی نزدیک به صفر دارای توزیع نرمال می باشند. با توجه به معیار کشیدکی منفی و اندک آن از نوع platykurtic است و براساس این آماره تعداد مقادیر پرت کم خواهد بود و توزیع داده ها یکنواخت می باشد. این موضوع در قائده 3-sigma نیز دیده می شود.\n",
    "\n",
    "</div>    "
   ]
  },
  {
   "cell_type": "code",
   "execution_count": 320,
   "id": "b7960fe9",
   "metadata": {
    "scrolled": false
   },
   "outputs": [
    {
     "data": {
      "image/png": "[encoded data removed]",
      "text/plain": [
       "<Figure size 640x480 with 1 Axes>"
      ]
     },
     "metadata": {},
     "output_type": "display_data"
    }
   ],
   "source": [
    "plothist(data , variable,23) "
   ]
  },
  {
   "cell_type": "markdown",
   "id": "cff1b437",
   "metadata": {},
   "source": [
    "<div style=\"direction: rtl; text-align: right;\">\n",
    "    بررسی هیستوگرام زمان حرکت پرواز\n",
    " <p style=\"text-align: right;\" > \n",
    " توزیع زمان حرکت پرواز: اکثر پروازها (با توجه به بیشترین فرکانس) دارای زمان حرکت پرواز بین حدود 6 و 18 دقیقه هستند    \n",
    "\n",
    "</br> \n",
    " تعداد پروازهای قبل ازساعت 5  و پروازهای بعد از ساعت 20  نسبتاً کمتر است\n",
    "</br>\n",
    "در نمودار دارای پیک صبح و در بعد از ظهر هم پیک پرواز وجود دارد \n",
    "\n",
    "</div>   "
   ]
  },
  {
   "cell_type": "markdown",
   "id": "453f043f",
   "metadata": {},
   "source": [
    "# Descriptive analysis of  dep_delay"
   ]
  },
  {
   "cell_type": "code",
   "execution_count": 321,
   "id": "0480bbc6",
   "metadata": {
    "scrolled": true
   },
   "outputs": [
    {
     "name": "stdout",
     "output_type": "stream",
     "text": [
      "                 Statistic                                     Value\n",
      "0                      Min                                     -43.0\n",
      "1                      Max                                    1301.0\n",
      "2                     Mean                                  12.63907\n",
      "3                   Median                                      -2.0\n",
      "4                Trim Mean                                  4.798201\n",
      "5                     Mode                                      -5.0\n",
      "6       Standard Deviation                                 40.210061\n",
      "7              Trimmed Std                                  14.75591\n",
      "8                 Skewness                                  4.802541\n",
      "9                 Kurtosis                                 43.950116\n",
      "10              +- 1 Sigma  (-27.570990634802193, 52.84913114941161)\n",
      "11              +- 2 Sigma    (-67.7810515269091, 93.05919204151851)\n",
      "12              +- 3 Sigma    (-107.991112419016, 133.2692529336254)\n",
      "13           OutliersCount                                      7928\n",
      "14           Missing Count                                      8255\n",
      "15                   Range                                    1344.0\n",
      "16                   Count                                    336776\n",
      "17                     Sum                                 4152200.0\n",
      "18  percent_within_1_sigma                                 68.268949\n",
      "19  percent_within_2_sigma                                 95.449974\n",
      "20  percent_within_3_sigma                                  99.73002\n"
     ]
    }
   ],
   "source": [
    "variable = 'dep_delay'\n",
    "descriptive_stats = statistics (data , variable) \n",
    "print(descriptive_stats)\n"
   ]
  },
  {
   "cell_type": "markdown",
   "id": "54baebb3",
   "metadata": {},
   "source": [
    "<div style=\"direction: rtl; text-align: right;\">\n",
    "    مشاهده می شود که تعجیل در حرکت پرواز وجود داشته و بیشترین تعجیل 43 دقیقه بوده است.\n",
    "</br>\n",
    "    بیشترین تاخیر در مبدا هم 13 ساعت بوده است\n",
    "</br>\n",
    "ولی متوسط تاخیر در مبدا پروازها 12 دقیقه است\n",
    "</br>\n",
    "بیشتر پرواز ها 5 دقیقه زود تر حرکت کرده اند\n",
    "</br>\n",
    "<p style=\"direction: rtl; text-align: right;\">\n",
    "با توجه به وجود چولگی به سمت مثبت مقادیر بزرگتر از میانگین در توزیع داده ها وجود دارد و داده ها در قسمت بزرگتر از میانگین گستردگی بیشتر دارند \n",
    "</p>\n",
    "با توجه کشیدگی مثبت تجمع داده ها در حول میانه بیشتر خواهد بود در این داده یعنی تعداد  تاخیر ها با مفادیر کم و نزدیک به صفر بیشتر از تعداد تاخیر های بزرگ است این موضوع در هیستو گرام هم قابل مشاهده است \n",
    "</br>\n",
    "همچنین تعداد داده های پرت در این داده وجئ دارد\n",
    "</div>"
   ]
  },
  {
   "cell_type": "code",
   "execution_count": 322,
   "id": "d4390264",
   "metadata": {},
   "outputs": [
    {
     "data": {
      "image/png": "[encoded data removed]",
      "text/plain": [
       "<Figure size 640x480 with 1 Axes>"
      ]
     },
     "metadata": {},
     "output_type": "display_data"
    }
   ],
   "source": [
    "plothist(data , variable,80) "
   ]
  },
  {
   "cell_type": "code",
   "execution_count": 323,
   "id": "ab583296",
   "metadata": {
    "scrolled": false
   },
   "outputs": [
    {
     "data": {
      "image/png": "[encoded data removed]",
      "text/plain": [
       "<Figure size 640x480 with 1 Axes>"
      ]
     },
     "metadata": {},
     "output_type": "display_data"
    }
   ],
   "source": [
    "# filter outliers\n",
    "my_data = outliers_filter_IQR (data, variable)\n",
    "plothist(my_data , variable,24) "
   ]
  },
  {
   "cell_type": "markdown",
   "id": "0bd9ddef",
   "metadata": {},
   "source": [
    "# انتخاب سه شرکت پروازی برتر بر حسب دو فاکتور \n",
    "# 1- پایینترین میانگین مدت تاخیر در مبدا \n",
    "# 2- پایین ترین نرخ  پرواز های کنسل شده به کل پرواز ها\n",
    "# دراین تحلیل اهمیت نرخ پایین  کنسلی بیشتر ازمیانگین تاخیر کمتر است"
   ]
  },
  {
   "cell_type": "code",
   "execution_count": 327,
   "id": "0284228c",
   "metadata": {},
   "outputs": [
    {
     "name": "stdout",
     "output_type": "stream",
     "text": [
      "average_delay :\n",
      "carrier\n",
      "US     3.782418\n",
      "HA     4.900585\n",
      "AS     5.804775\n",
      "AA     8.586016\n",
      "DL     9.264505\n",
      "MQ    10.552041\n",
      "UA    12.106073\n",
      "OO    12.586207\n",
      "VX    12.869421\n",
      "B6    13.022522\n",
      "9E    16.725769\n",
      "WN    17.711744\n",
      "FL    18.726075\n",
      "YV    18.996330\n",
      "EV    19.955390\n",
      "F9    20.215543\n",
      "Name: dep_delay, dtype: float64\n",
      "proportion_cancelled :\n",
      "carrier\n",
      "HA    0.000000\n",
      "AS    0.280112\n",
      "F9    0.437956\n",
      "VX    0.600542\n",
      "DL    0.725421\n",
      "B6    0.852933\n",
      "UA    1.169351\n",
      "WN    1.564155\n",
      "AA    1.943231\n",
      "FL    2.239264\n",
      "US    3.228477\n",
      "MQ    4.674774\n",
      "EV    5.200007\n",
      "9E    5.655471\n",
      "YV    9.317804\n",
      "OO    9.375000\n",
      "dtype: float64\n",
      "carrier\n",
      "9E    10.083591\n",
      "AA     4.600345\n",
      "AS     2.489977\n",
      "B6     5.720769\n",
      "DL     4.141054\n",
      "EV    11.102160\n",
      "F9     8.348991\n",
      "FL     8.833988\n",
      "HA     1.960234\n",
      "MQ     7.025680\n",
      "OO    10.659483\n",
      "UA     5.544040\n",
      "US     3.450053\n",
      "VX     5.508094\n",
      "WN     8.023190\n",
      "YV    13.189214\n",
      "dtype: float64\n",
      "Top three airline companies based on the factors of average departure delay and cancellation rate:\n",
      "carrier\n",
      "HA    1.960234\n",
      "AS    2.489977\n",
      "US    3.450053\n",
      "dtype: float64\n"
     ]
    }
   ],
   "source": [
    "import pandas as pd\n",
    "\n",
    "# Filter the data for flights with departure delays or cancellations\n",
    "average_delay = data.groupby('carrier')['dep_delay'].mean()\n",
    "cancelled_counts = data[data['cancelled'] == 1].groupby('carrier').size()\n",
    "total_flights = data.groupby('carrier').size()\n",
    "proportion_cancelled = (cancelled_counts / total_flights) * 100\n",
    "\n",
    "\n",
    "\n",
    "# Calculate the percentage of delayed and cancelled flights for each carrier\n",
    "\n",
    "print(\"average_delay :\")\n",
    "print(average_delay.sort_values(ascending=True))\n",
    "print(\"proportion_cancelled :\")\n",
    "print(proportion_cancelled.sort_values(ascending=True))\n",
    "\n",
    "\n",
    "# Define weights for each measure\n",
    "weight_delay = 0.4  # Weight for departure delay portion\n",
    "weight_cancellation = 0.6 # Weight for cancellation portion\n",
    "\n",
    "\n",
    "score = (weight_delay * average_delay) + (weight_cancellation * proportion_cancelled)\n",
    "print(score)\n",
    "# Sort the airline companies based on the score in descending order\n",
    "sorted_airlines = score.sort_values(ascending=True)\n",
    "\n",
    "# Select the top three airline companies\n",
    "top_three_airlines = sorted_airlines.head(3)\n",
    "\n",
    "print(\"Top three airline companies based on the factors of average departure delay and cancellation rate:\")\n",
    "print(top_three_airlines)\n",
    "\n"
   ]
  },
  {
   "cell_type": "markdown",
   "id": "fe00336c",
   "metadata": {},
   "source": [
    " \n",
    " # تحلیل همبستگی\n",
    "\n"
   ]
  },
  {
   "cell_type": "code",
   "execution_count": 325,
   "id": "6986347d",
   "metadata": {},
   "outputs": [],
   "source": [
    "import pandas as pd\n",
    "import seaborn as sns\n",
    "import matplotlib.pyplot as plt\n",
    "\n",
    "def plot_correlation_matrix(df):\n",
    "    # Convert non-numeric columns to numeric representations\n",
    "    df_encoded = pd.get_dummies(df)\n",
    "\n",
    "    # Compute the correlation matrix\n",
    "    correlation_matrix = df_encoded.corr()\n",
    "\n",
    "    # Set up the matplotlib figure\n",
    "    fig, ax = plt.subplots(figsize=(10, 8))\n",
    "\n",
    "    # Generate the correlation plot using seaborn\n",
    "    sns.heatmap(correlation_matrix, annot=True, fmt=\".2f\", cmap=\"coolwarm\", square=True, ax=ax)\n",
    "\n",
    "    # Set the title of the plot\n",
    "    ax.set_title('Correlation Matrix')\n",
    "\n",
    "    # Display the plot\n",
    "    plt.show()\n"
   ]
  },
  {
   "cell_type": "code",
   "execution_count": 326,
   "id": "5db8d517",
   "metadata": {},
   "outputs": [
    {
     "data": {
      "image/png": "[encoded data removed]",
      "text/plain": [
       "<Figure size 1000x800 with 2 Axes>"
      ]
     },
     "metadata": {},
     "output_type": "display_data"
    }
   ],
   "source": [
    "\n",
    "my_data = data[[\"date\" , \"dep_time\" , \"sched_dep_time\" ,\"dep_delay\",\"arr_time\" ,\"sched_arr_time\",\n",
    "                \"arr_delay\",\"distance\",\"air_time\",\"speed\"]]\n",
    "plot_correlation_matrix (my_data)\n"
   ]
  },
  {
   "cell_type": "markdown",
   "id": "1a6a3307",
   "metadata": {},
   "source": [
    "\n",
    "<div style=\"direction: rtl;\">    \n",
    " در نمودار بالا رابطه همبستگی بین متغیر های مختلف نشان داده شده است \n",
    "به عنوان مثال فاصله پرواز و مدت پرواز ارتباط مستقیم دارند distance  و air_time\n",
    "هر چه تاخیر حرکت پرواز بیشتر باشد تاخیر رسیدن نیز بیشتر خواهد بود</br>\n",
    "با توجه به همبستگی مثبت سرعت و مدت زمان پرواز به نظر می رسد هواپیماهایی که سرعت بالاتری دارند، معمولاً مدت زمان پرواز بیشتری دارند این میتواند مربوط به شرایط هوایی ، فاصله  و... بستگی داشته باشد به عنوان مثال هواپیما در یک مقصد میانی سوخت گیری کرده باشد</br>. \n",
    "این موارد با فرض خطی بودن رابطه این متغیر ها در نظر گرفته شده است و از عوامل تاثیر گذار بر رابطه همبستگی مانند داده های نویز و ... صرف نظر شده است.\n",
    "همچنین با استفاده از این آماره فقط می توان فرضیه هایی را در نظر گرفت که برای تایید یا رد آن نیاز به تحلیل بیشتر می باشد\n",
    "\n",
    "</div>"
   ]
  },
  {
   "cell_type": "code",
   "execution_count": null,
   "id": "8e1a8819",
   "metadata": {},
   "outputs": [],
   "source": [
    "# simin Alavizadeh"
   ]
  },
  {
   "cell_type": "code",
   "execution_count": null,
   "id": "eb80da16",
   "metadata": {},
   "outputs": [],
   "source": []
  },
  {
   "cell_type": "code",
   "execution_count": null,
   "id": "11f2413b",
   "metadata": {},
   "outputs": [],
   "source": []
  }
 ],
 "metadata": {
  "kernelspec": {
   "display_name": "Python 3 (ipykernel)",
   "language": "python",
   "name": "python3"
  },
  "language_info": {
   "codemirror_mode": {
    "name": "ipython",
    "version": 3
   },
   "file_extension": ".py",
   "mimetype": "text/x-python",
   "name": "python",
   "nbconvert_exporter": "python",
   "pygments_lexer": "ipython3",
   "version": "3.10.9"
  }
 },
 "nbformat": 4,
 "nbformat_minor": 5
}
